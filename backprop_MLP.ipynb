{
 "cells": [
  {
   "cell_type": "code",
   "execution_count": 90,
   "metadata": {},
   "outputs": [],
   "source": [
    "import numpy as np\n",
    "# parameter setup\n",
    "n = 300\n",
    "d = 14\n",
    "k = 20"
   ]
  },
  {
   "cell_type": "code",
   "execution_count": 91,
   "metadata": {},
   "outputs": [],
   "source": [
    "def relu(data):\n",
    "    return np.maximum(data, 0)\n",
    "\n",
    "def dRelu(data, Z):\n",
    "    result = np.zeros(Z.shape)\n",
    "    result[Z>0] = data[Z>0]\n",
    "    return result"
   ]
  },
  {
   "cell_type": "code",
   "execution_count": 92,
   "metadata": {},
   "outputs": [],
   "source": [
    "def forward(X, W, v):\n",
    "    Z_trans = relu(W@X.T) # mat-mat\n",
    "    Z = Z_trans.T # trans\n",
    "    yhat = Z@v # mat-vec\n",
    "    return Z, yhat"
   ]
  },
  {
   "cell_type": "code",
   "execution_count": 93,
   "metadata": {},
   "outputs": [],
   "source": [
    "def backward(error, Z, v, X, W):\n",
    "    n, d = X.shape \n",
    "    dv = Z.T @ error / n # mat-vector\n",
    "    dZ = np.outer(error, v) # outer product\n",
    "    dp = dRelu(dZ, Z)\n",
    "    dW = dp.T @ X /n # mat-mat\n",
    "    return dW, dv"
   ]
  },
  {
   "cell_type": "code",
   "execution_count": 94,
   "metadata": {},
   "outputs": [],
   "source": [
    "def update(W, v, dW, dv, alpha):\n",
    "    W -= alpha * dW\n",
    "    v -= alpha * dv\n",
    "    return W, v"
   ]
  },
  {
   "cell_type": "code",
   "execution_count": 96,
   "metadata": {},
   "outputs": [
    {
     "name": "stdout",
     "output_type": "stream",
     "text": [
      "mse:  1501.3498801251972\n",
      "mse:  767.6849596459\n",
      "mse:  412.0526727358918\n",
      "mse:  226.76410157520561\n",
      "mse:  126.52067743320958\n",
      "mse:  71.16300406001197\n",
      "mse:  40.240892363028664\n",
      "mse:  22.856135484372377\n",
      "mse:  13.046105954493436\n",
      "mse:  7.498648724053874\n",
      "mse:  4.357753906737876\n",
      "mse:  2.5781269862709917\n",
      "mse:  1.569346459062586\n",
      "mse:  0.9973556546080302\n",
      "mse:  0.6729606085397626\n",
      "mse:  0.4889483575545233\n",
      "mse:  0.3845420766512706\n",
      "mse:  0.32528140878698203\n",
      "mse:  0.2916248705981824\n",
      "mse:  0.27249014811609606\n"
     ]
    }
   ],
   "source": [
    "# setting up data\n",
    "W = np.random.rand(k, d)\n",
    "v = np.random.rand(k)\n",
    "X = np.random.rand(n, d)\n",
    "y = np.random.rand(n)\n",
    "\n",
    "# training loop\n",
    "alpha = 0.001\n",
    "for iteration in range(20):\n",
    "    Z, yhat = forward(X, W, v)\n",
    "    mse = np.sum((y - yhat) ** 2) / n\n",
    "    print(\"mse: \", mse)\n",
    "    dW, dv = backward(yhat - y, Z, v, X, W)\n",
    "    W, v = update(W, v, dW, dv, alpha)"
   ]
  },
  {
   "cell_type": "code",
   "execution_count": null,
   "metadata": {},
   "outputs": [],
   "source": []
  },
  {
   "cell_type": "code",
   "execution_count": null,
   "metadata": {},
   "outputs": [],
   "source": []
  }
 ],
 "metadata": {
  "kernelspec": {
   "display_name": "py3.6",
   "language": "python",
   "name": "py3.6"
  },
  "language_info": {
   "codemirror_mode": {
    "name": "ipython",
    "version": 3
   },
   "file_extension": ".py",
   "mimetype": "text/x-python",
   "name": "python",
   "nbconvert_exporter": "python",
   "pygments_lexer": "ipython3",
   "version": "3.6.6"
  }
 },
 "nbformat": 4,
 "nbformat_minor": 2
}
