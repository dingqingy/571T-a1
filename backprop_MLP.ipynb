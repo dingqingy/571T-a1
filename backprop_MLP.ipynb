{
 "cells": [
  {
   "cell_type": "code",
   "execution_count": 1,
   "metadata": {},
   "outputs": [],
   "source": [
    "import numpy as np\n",
    "# parameter setup\n",
    "n = 300\n",
    "d = 14\n",
    "k = 20"
   ]
  },
  {
   "cell_type": "code",
   "execution_count": 2,
   "metadata": {},
   "outputs": [],
   "source": [
    "def relu(data):\n",
    "    return np.maximum(data, 0)\n",
    "\n",
    "def dRelu(data, Z):\n",
    "    result = np.zeros(Z.shape)\n",
    "    result[Z>0] = data[Z>0]\n",
    "    return result"
   ]
  },
  {
   "cell_type": "code",
   "execution_count": 3,
   "metadata": {},
   "outputs": [],
   "source": [
    "def forward(X, W, v):\n",
    "    Z_trans = relu(W@X.T) # mat-mat\n",
    "    Z = Z_trans.T # trans\n",
    "    yhat = Z@v # mat-vec\n",
    "    return Z, yhat"
   ]
  },
  {
   "cell_type": "code",
   "execution_count": 4,
   "metadata": {},
   "outputs": [],
   "source": [
    "def backward(error, Z, v, X, W):\n",
    "    n, d = X.shape \n",
    "    dv = Z.T @ error  # mat-vector\n",
    "    dZ = np.outer(error, v) # outer product\n",
    "    dp = dRelu(dZ, Z)\n",
    "    dW = dp.T @ X  # mat-mat\n",
    "    return dW, dv"
   ]
  },
  {
   "cell_type": "code",
   "execution_count": 5,
   "metadata": {},
   "outputs": [],
   "source": [
    "def update(W, v, dW, dv, alpha):\n",
    "    W -= (alpha/n) * dW\n",
    "    v -= (alpha/n) * dv\n",
    "    return W, v"
   ]
  },
  {
   "cell_type": "code",
   "execution_count": 6,
   "metadata": {},
   "outputs": [
    {
     "name": "stdout",
     "output_type": "stream",
     "text": [
      "mse:  1062.0920266355738\n",
      "mse:  535.5798159056685\n",
      "mse:  279.76656603244106\n",
      "mse:  148.79588918389402\n",
      "mse:  79.91747568322813\n",
      "mse:  43.17539443000831\n",
      "mse:  23.42529924704887\n",
      "mse:  12.764588562345306\n",
      "mse:  6.996935903186636\n",
      "mse:  3.8725489057362967\n",
      "mse:  2.1788299210238984\n",
      "mse:  1.2602927262684043\n",
      "mse:  0.7620276971358071\n",
      "mse:  0.49169552759715224\n",
      "mse:  0.3450063211467373\n",
      "mse:  0.26539548939203833\n",
      "mse:  0.22217835233457406\n",
      "mse:  0.19870764866942242\n",
      "mse:  0.1859512344940013\n",
      "mse:  0.17900843762497043\n"
     ]
    }
   ],
   "source": [
    "# setting up data\n",
    "W = np.random.rand(k, d)\n",
    "v = np.random.rand(k)\n",
    "X = np.random.rand(n, d)\n",
    "y = np.random.rand(n)\n",
    "\n",
    "# training loop\n",
    "alpha = 0.001\n",
    "for iteration in range(20):\n",
    "    Z, yhat = forward(X, W, v)\n",
    "    mse = np.sum((y - yhat) ** 2) / n\n",
    "    print(\"mse: \", mse)\n",
    "    dW, dv = backward(yhat - y, Z, v, X, W)\n",
    "    W, v = update(W, v, dW, dv, alpha)"
   ]
  },
  {
   "cell_type": "code",
   "execution_count": null,
   "metadata": {},
   "outputs": [],
   "source": []
  },
  {
   "cell_type": "code",
   "execution_count": null,
   "metadata": {},
   "outputs": [],
   "source": []
  }
 ],
 "metadata": {
  "kernelspec": {
   "display_name": "py3.6",
   "language": "python",
   "name": "py3.6"
  },
  "language_info": {
   "codemirror_mode": {
    "name": "ipython",
    "version": 3
   },
   "file_extension": ".py",
   "mimetype": "text/x-python",
   "name": "python",
   "nbconvert_exporter": "python",
   "pygments_lexer": "ipython3",
   "version": "3.6.6"
  }
 },
 "nbformat": 4,
 "nbformat_minor": 2
}
